{
  "nbformat": 4,
  "nbformat_minor": 0,
  "metadata": {
    "colab": {
      "name": "metodo da falsa posicao.ipynb",
      "provenance": [],
      "collapsed_sections": [],
      "authorship_tag": "ABX9TyMDMCuE5CMgxK0ch6G0etqZ",
      "include_colab_link": true
    },
    "kernelspec": {
      "name": "python3",
      "display_name": "Python 3"
    },
    "language_info": {
      "name": "python"
    }
  },
  "cells": [
    {
      "cell_type": "markdown",
      "metadata": {
        "id": "view-in-github",
        "colab_type": "text"
      },
      "source": [
        "<a href=\"https://colab.research.google.com/github/MatheusVilar1/calculo-numerico-py/blob/main/metodo_da_falsa_posicao.ipynb\" target=\"_parent\"><img src=\"https://colab.research.google.com/assets/colab-badge.svg\" alt=\"Open In Colab\"/></a>"
      ]
    },
    {
      "cell_type": "code",
      "execution_count": 4,
      "metadata": {
        "colab": {
          "base_uri": "https://localhost:8080/"
        },
        "id": "rOZuWgBkm8RI",
        "outputId": "88ea797e-b318-435e-b2a4-fa5d15d503c7"
      },
      "outputs": [
        {
          "output_type": "stream",
          "name": "stdout",
          "text": [
            "inciando interacao  1  intervalo: [ 0.5 , 1 ]\n",
            "Valor:  f( 0.5862068965517241 )= -0.07441879535856266\n",
            "inciando interacao  2  intervalo: [ 0.5 , 0.5862068965517241 ]\n",
            "Valor:  f( 0.5770344044260434 )= -0.0011752420919517448\n",
            "A raiz mais aproximada foi:  0.577\n"
          ]
        }
      ],
      "source": [
        "#metodo da falsa posicao\n",
        "def f(x):\n",
        "  return x**3-9*x+5 #Função\n",
        "\n",
        "intervalo= [0.5,1]\n",
        "a=intervalo[0]\n",
        "b=intervalo[1]  #Intervalo inicial\n",
        "precisao = 10**(-2) #precisão\n",
        "p=1                  #Valor para iniciaro looping     \n",
        "contador = 0        #contador de interação\n",
        "valor=[] \n",
        "v=0           #vetor de valores\n",
        "while p>precisao and contador <20:    #Loop com criterio de parada precisão ou 20 interações\n",
        "    print('inciando interacao ',contador+1,\" intervalo: [\",a,\",\",b,\"]\")\n",
        "    \n",
        "    v=(a*f(b)-b*f(a))/(f(b)-f(a))     #calcula o valor da falsa posicao\n",
        "    print('Valor: ','f(',v,')=',f(v))\n",
        "    valor.append(round(f(v),5))         #adicionar o valor ao array\n",
        "    if f(v)*f(a)<0:          #compara o resultado para poder trocar o intervalo\n",
        "      b=v\n",
        "    else:\n",
        "      a=v\n",
        "\n",
        "    p=abs(f(v)) #calcula precisão\n",
        "    contador=contador+1       \n",
        "print('A raiz mais aproximada foi: ', round(v,4))"
      ]
    },
    {
      "cell_type": "code",
      "source": [
        "#Transformando em função\n",
        "\n",
        "def f(x):\n",
        "  return x**3-9*x+5 #Função\n",
        "\n",
        "def raizes(intervalo,precisao):\n",
        "  a=intervalo[0]\n",
        "  b=intervalo[1]\n",
        "  p=1                  #Valor para iniciaro looping     \n",
        "  contador = 0        #contador de interação\n",
        "  valor=[] \n",
        "  v=0           #vetor de valores\n",
        "  while p>precisao and contador <20:    #Loop com criterio de parada precisão ou 20 interações\n",
        "    print('inciando interacao ',contador+1,\" intervalo: [\",a,\",\",b,\"]\")\n",
        "    \n",
        "    v=(a*f(b)-b*f(a))/(f(b)-f(a))     #calcula o valor da bissecção\n",
        "    print('Valor: ','f(',v,')=',f(v))\n",
        "    valor.append(round(f(v),5))         #adicionar o valor ao array\n",
        "    if f(v)*f(a)<0:          #compara o resultado para poder trocar o intervalo\n",
        "      b=v\n",
        "    else:\n",
        "      a=v\n",
        "\n",
        "    p=abs(f(v)) #calcula precisão\n",
        "    contador=contador+1       \n",
        "  return round(v,4)\n",
        "intervalo= [0.5,1]  #Intervalo inicial\n",
        "precisao = 10**(-2) #precisão\n",
        "\n",
        "print(raizes(intervalo,precisao))"
      ],
      "metadata": {
        "colab": {
          "base_uri": "https://localhost:8080/"
        },
        "id": "8z-e3UvOo0sJ",
        "outputId": "7975fe4e-e2f9-4b6b-bafe-e88ec0688bf3"
      },
      "execution_count": 9,
      "outputs": [
        {
          "output_type": "stream",
          "name": "stdout",
          "text": [
            "inciando interacao  1  intervalo: [ 0.5 , 1 ]\n",
            "Valor:  f( 0.5862068965517241 )= -0.07441879535856266\n",
            "inciando interacao  2  intervalo: [ 0.5 , 0.5862068965517241 ]\n",
            "Valor:  f( 0.5770344044260434 )= -0.0011752420919517448\n",
            "0.577\n"
          ]
        }
      ]
    },
    {
      "cell_type": "code",
      "source": [
        "#Verificar intervalos com raizes\n",
        "\n",
        "def f(x):\n",
        "  return x**3-9*x+5\n",
        "\n",
        "def verificarIntervalos(intervalo,variacao):  #Função que verifica os intervalos que tem zeros\n",
        "  numeros=[]\n",
        "  s=True\n",
        "  contador=0\n",
        "  while s==True:\n",
        "    atual=intervalo[0]+contador*0.5\n",
        "    if atual>intervalo[1]:\n",
        "      break;\n",
        "    contador=contador+1\n",
        "    numeros.append(atual)\n",
        "\n",
        "  print(numeros)\n",
        "  intervalos=[]\n",
        "  contador2=0 #contar os iniciais\n",
        "  contador3=1 #contar os finais\n",
        "  while True:\n",
        "      if contador2>len(numeros)-2:\n",
        "        break;\n",
        "\n",
        "      intervaloI=numeros[contador2]\n",
        "      print('contador2', contador2)\n",
        "      print('contador3 ',contador3)\n",
        "      intervaloF=numeros[contador3]\n",
        "      if f(intervaloI)*f(intervaloF)<0:  #Verifica Intervalos que tem zeros Dentro dos Intervalor\n",
        "        intervalos.append([intervaloI,intervaloF])\n",
        "      contador2=contador2+1\n",
        "      contador3=contador3+1\n",
        "  return intervalos      \n",
        "\n",
        "\n",
        "intervalo= [0,3]\n",
        "intervalosZeros=verificarIntervalos([0,3],0.5)"
      ],
      "metadata": {
        "id": "c5UhlbOWqRiw"
      },
      "execution_count": null,
      "outputs": []
    },
    {
      "cell_type": "code",
      "source": [
        "# verificar raizes por falsa\n",
        "\n",
        "\n",
        "def f(x):\n",
        "  return x**3-9*x+5 #Função\n",
        "\n",
        "def raiz(intervalo,precisao): # Verifica a raiz do intervalo\n",
        "  p=1                  #Valor para iniciaro looping     \n",
        "  a=intervalo[0]\n",
        "  b=intervalo[1]\n",
        "  contador = 0        #contador de interação\n",
        "  valor=[] \n",
        "  v=0           #vetor de valores\n",
        "  while p>precisao and contador <20:    #Loop com criterio de parada precisão ou 20 interações\n",
        "    print('inciando interacao ',contador+1,\" intervalo: [\",intervalo[0],\",\",intervalo[1],\"]\")\n",
        "    \n",
        "    v=(a*f(b)-b*f(a))/(f(b)-f(a))     #calcula o valor da falsa posicoa\n",
        "    print('Valor: ','f(',v,')=',f(v))\n",
        "    valor.append(round(f(v),5))         #adicionar o valor ao array\n",
        "    if f(v)*f(a)<0:          #compara o resultado para poder trocar o intervalo\n",
        "      b=v\n",
        "    else:\n",
        "      a=v\n",
        "\n",
        "    p=abs(f(v)) #calcula precisão\n",
        "    contador=contador+1       \n",
        "  return round(v,4)\n",
        "  \n",
        "def verificarIntervalos(intervalo,variacao):  #Função que verifica os intervalos que tem raizes\n",
        "  numeros=[]\n",
        "  s=True\n",
        "  contador=0\n",
        "  while s==True:\n",
        "    atual=intervalo[0]+contador*0.5\n",
        "    if atual>intervalo[1]:\n",
        "      break;\n",
        "    contador=contador+1\n",
        "    numeros.append(atual)\n",
        "\n",
        "  print(numeros)\n",
        "  intervalos=[]\n",
        "  contador2=0 #contar os iniciais\n",
        "  while True:\n",
        "      if contador2>len(numeros)-2:\n",
        "        break;\n",
        "\n",
        "      a=numeros[contador2]\n",
        "      print('contador2', contador2)\n",
        "      print('contador3 ',contador2+1)\n",
        "      b=numeros[contador2+1]\n",
        "      if f(a)*f(b)<0:  #Verifica Intervalos que tem zeros Dentro dos Intervalor\n",
        "        intervalos.append([a,b])\n",
        "      contador2=contador2+1\n",
        "      \n",
        "  return intervalos      \n",
        "\n",
        "def raizes(intervalo,variacao,precisao):  #Funcao que intera as raizes dos intervalos\n",
        "  raizes=[]\n",
        "  intervalos=verificarIntervalos(intervalo,variacao)\n",
        "  for intervalo in intervalos:\n",
        "    raizes.append(raiz(intervalo,precisao))\n",
        "  \n",
        "  return raizes\n",
        "\n",
        "\n",
        "\n",
        "#Minhas entradas\n",
        "variacao=0.5  #Variacao o qual vou fazer o tabelamento para verificar raizes\n",
        "intervalo=[0,3] #o intervalor onde vou procurar intervalos com raizes\n",
        "precisao=10**(-2) #A precisão que queroa das raizes\n",
        "print(\"As Raizes dessa função para o intervalo:\",intervalo,'são : ' ,raizes(intervalo,variacao,precisao))  #e o resultado\n",
        "\n",
        "\n",
        "\n",
        "\n",
        "\n",
        "\n"
      ],
      "metadata": {
        "colab": {
          "base_uri": "https://localhost:8080/"
        },
        "id": "iqHggh7rqbZb",
        "outputId": "df3cb177-5a14-490d-b849-ee1c5cbb671b"
      },
      "execution_count": 13,
      "outputs": [
        {
          "output_type": "stream",
          "name": "stdout",
          "text": [
            "[0.0, 0.5, 1.0, 1.5, 2.0, 2.5, 3.0]\n",
            "contador2 0\n",
            "contador3  1\n",
            "contador2 1\n",
            "contador3  2\n",
            "contador2 2\n",
            "contador3  3\n",
            "contador2 3\n",
            "contador3  4\n",
            "contador2 4\n",
            "contador3  5\n",
            "contador2 5\n",
            "contador3  6\n",
            "inciando interacao  1  intervalo: [ 0.5 , 1.0 ]\n",
            "Valor:  f( 0.5862068965517241 )= -0.07441879535856266\n",
            "inciando interacao  2  intervalo: [ 0.5 , 1.0 ]\n",
            "Valor:  f( 0.5770344044260434 )= -0.0011752420919517448\n",
            "inciando interacao  1  intervalo: [ 2.5 , 3.0 ]\n",
            "Valor:  f( 2.6363636363636362 )= -0.4034560480841485\n",
            "inciando interacao  2  intervalo: [ 2.5 , 3.0 ]\n",
            "Valor:  f( 2.663515016685206 )= -0.07582795493255645\n",
            "inciando interacao  3  intervalo: [ 2.5 , 3.0 ]\n",
            "Valor:  f( 2.6685417765314456 )= -0.013882547149098201\n",
            "inciando interacao  4  intervalo: [ 2.5 , 3.0 ]\n",
            "Valor:  f( 2.6694595252764524 )= -0.002529358591502273\n",
            "As Raizes dessa função para o intervalo: [0, 3] são :  [0.577, 2.6695]\n"
          ]
        }
      ]
    }
  ]
}