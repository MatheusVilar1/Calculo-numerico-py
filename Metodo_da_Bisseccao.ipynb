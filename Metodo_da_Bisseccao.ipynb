{
  "nbformat": 4,
  "nbformat_minor": 0,
  "metadata": {
    "colab": {
      "name": "Metodo da Bisseccao.ipynb",
      "provenance": [],
      "collapsed_sections": [],
      "authorship_tag": "ABX9TyMvQ+dVmlSK5mt+ST+QP9rj",
      "include_colab_link": true
    },
    "kernelspec": {
      "name": "python3",
      "display_name": "Python 3"
    },
    "language_info": {
      "name": "python"
    }
  },
  "cells": [
    {
      "cell_type": "markdown",
      "metadata": {
        "id": "view-in-github",
        "colab_type": "text"
      },
      "source": [
        "<a href=\"https://colab.research.google.com/github/MatheusVilar1/calculo-numerico-py/blob/main/Metodo_da_Bisseccao.ipynb\" target=\"_parent\"><img src=\"https://colab.research.google.com/assets/colab-badge.svg\" alt=\"Open In Colab\"/></a>"
      ]
    },
    {
      "cell_type": "code",
      "execution_count": 19,
      "metadata": {
        "colab": {
          "base_uri": "https://localhost:8080/"
        },
        "id": "plMW9NqoI3Z5",
        "outputId": "af10560a-5e60-4ada-d1e1-65c6475eb5ff"
      },
      "outputs": [
        {
          "output_type": "stream",
          "name": "stdout",
          "text": [
            "inciando interacao  1  intervalo: [ 0.5 , 1 ]\n",
            "Valor:  f( 0.75 )= -1.328125\n",
            "inciando interacao  2  intervalo: [ 0.5 , 0.75 ]\n",
            "Valor:  f( 0.625 )= -0.380859375\n",
            "inciando interacao  3  intervalo: [ 0.5 , 0.625 ]\n",
            "Valor:  f( 0.5625 )= 0.115478515625\n",
            "inciando interacao  4  intervalo: [ 0.5625 , 0.625 ]\n",
            "Valor:  f( 0.59375 )= -0.134429931640625\n",
            "inciando interacao  5  intervalo: [ 0.5625 , 0.59375 ]\n",
            "Valor:  f( 0.578125 )= -0.009899139404296875\n",
            "A raiz mais aproximada foi:  0.5781\n"
          ]
        }
      ],
      "source": [
        "#metodo da bisseccao\n",
        "def f(x):\n",
        "  return x**3-9*x+5 #Função\n",
        "\n",
        "intervalo= [0.5,1]  #Intervalo inicial\n",
        "precisao = 10**(-2) #precisão\n",
        "p=1                  #Valor para iniciaro looping     \n",
        "contador = 0        #contador de interação\n",
        "valor=[] \n",
        "v=0           #vetor de valores\n",
        "while p>precisao and contador <20:    #Loop com criterio de parada precisão ou 20 interações\n",
        "    print('inciando interacao ',contador+1,\" intervalo: [\",intervalo[0],\",\",intervalo[1],\"]\")\n",
        "    \n",
        "    v=(intervalo[0]+intervalo[1])/2     #calcula o valor da bissecção\n",
        "    print('Valor: ','f(',v,')=',f(v))\n",
        "    valor.append(round(f(v),5))         #adicionar o valor ao array\n",
        "    if f(v)*f(intervalo[0])<0:          #compara o resultado para poder trocar o intervalo\n",
        "      intervalo[1]=v\n",
        "    else:\n",
        "      intervalo[0]=v\n",
        "\n",
        "    p=abs(f(v)) #calcula precisão\n",
        "    contador=contador+1       \n",
        "print('A raiz mais aproximada foi: ', round(v,4))"
      ]
    },
    {
      "cell_type": "code",
      "source": [
        "#Transformando em função\n",
        "\n",
        "def f(x):\n",
        "  return x**3-9*x+5 #Função\n",
        "\n",
        "def raizes(intervalo,precisao):\n",
        "  p=1                  #Valor para iniciaro looping     \n",
        "  contador = 0        #contador de interação\n",
        "  valor=[] \n",
        "  v=0           #vetor de valores\n",
        "  while p>precisao and contador <20:    #Loop com criterio de parada precisão ou 20 interações\n",
        "    print('inciando interacao ',contador+1,\" intervalo: [\",intervalo[0],\",\",intervalo[1],\"]\")\n",
        "    \n",
        "    v=(intervalo[0]+intervalo[1])/2     #calcula o valor da bissecção\n",
        "    print('Valor: ','f(',v,')=',f(v))\n",
        "    valor.append(round(f(v),5))         #adicionar o valor ao array\n",
        "    if f(v)*f(intervalo[0])<0:          #compara o resultado para poder trocar o intervalo\n",
        "      intervalo[1]=v\n",
        "    else:\n",
        "      intervalo[0]=v\n",
        "\n",
        "    p=abs(f(v)) #calcula precisão\n",
        "    contador=contador+1       \n",
        "  return round(v,4)\n",
        "intervalo= [0.5,1]  #Intervalo inicial\n",
        "precisao = 10**(-2) #precisão\n"
      ],
      "metadata": {
        "id": "rFP6H8VRUTuW"
      },
      "execution_count": null,
      "outputs": []
    },
    {
      "cell_type": "code",
      "source": [
        "#Verificar intervalos com raizes\n",
        "\n",
        "def f(x):\n",
        "  return x**3-9*x+5\n",
        "\n",
        "def verificarIntervalos(intervalo,variacao):  #Função que verifica os intervalos que tem zeros\n",
        "  numeros=[]\n",
        "  s=True\n",
        "  contador=0\n",
        "  while s==True:\n",
        "    atual=intervalo[0]+contador*0.5\n",
        "    if atual>intervalo[1]:\n",
        "      break;\n",
        "    contador=contador+1\n",
        "    numeros.append(atual)\n",
        "\n",
        "  print(numeros)\n",
        "  intervalos=[]\n",
        "  contador2=0 #contar os iniciais\n",
        "  contador3=1 #contar os finais\n",
        "  while True:\n",
        "      if contador2>len(numeros)-2:\n",
        "        break;\n",
        "\n",
        "      intervaloI=numeros[contador2]\n",
        "      print('contador2', contador2)\n",
        "      print('contador3 ',contador3)\n",
        "      intervaloF=numeros[contador3]\n",
        "      if f(intervaloI)*f(intervaloF)<0:  #Verifica Intervalos que tem zeros Dentro dos Intervalor\n",
        "        intervalos.append([intervaloI,intervaloF])\n",
        "      contador2=contador2+1\n",
        "      contador3=contador3+1\n",
        "  return intervalos      \n",
        "\n",
        "\n",
        "intervalo= [0,3]\n",
        "intervalosZeros=verificarIntervalos([0,3],0.5)\n",
        "  \n"
      ],
      "metadata": {
        "colab": {
          "base_uri": "https://localhost:8080/"
        },
        "id": "vNsaDkPSUmoX",
        "outputId": "acd5531e-3a0a-4fff-f246-41f22acb4a3c"
      },
      "execution_count": 2,
      "outputs": [
        {
          "output_type": "stream",
          "name": "stdout",
          "text": [
            "[0.0, 0.5, 1.0, 1.5, 2.0, 2.5, 3.0]\n",
            "contador2 0\n",
            "contador3  1\n",
            "contador2 1\n",
            "contador3  2\n",
            "tem zero\n",
            "contador2 2\n",
            "contador3  3\n",
            "contador2 3\n",
            "contador3  4\n",
            "contador2 4\n",
            "contador3  5\n",
            "contador2 5\n",
            "contador3  6\n",
            "tem zero\n",
            "[[0.5, 1.0], [2.5, 3.0]]\n"
          ]
        }
      ]
    },
    {
      "cell_type": "code",
      "source": [
        "# verificar raizes por bisseccao\n",
        "\n",
        "\n",
        "def f(x):\n",
        "  return x**3-9*x+5 #Função\n",
        "\n",
        "def raiz(intervalo,precisao): # Verifica a raiz do intervalo\n",
        "  p=1                  #Valor para iniciaro looping     \n",
        "  contador = 0        #contador de interação\n",
        "  valor=[] \n",
        "  v=0           #vetor de valores\n",
        "  while p>precisao and contador <20:    #Loop com criterio de parada precisão ou 20 interações\n",
        "    print('inciando interacao ',contador+1,\" intervalo: [\",intervalo[0],\",\",intervalo[1],\"]\")\n",
        "    \n",
        "    v=(intervalo[0]+intervalo[1])/2     #calcula o valor da bissecção\n",
        "    print('Valor: ','f(',v,')=',f(v))\n",
        "    valor.append(round(f(v),5))         #adicionar o valor ao array\n",
        "    if f(v)*f(intervalo[0])<0:          #compara o resultado para poder trocar o intervalo\n",
        "      intervalo[1]=v\n",
        "    else:\n",
        "      intervalo[0]=v\n",
        "\n",
        "    p=abs(f(v)) #calcula precisão\n",
        "    contador=contador+1       \n",
        "  return round(v,4)\n",
        "  \n",
        "def verificarIntervalos(intervalo,variacao):  #Função que verifica os intervalos que tem raizes\n",
        "  numeros=[]\n",
        "  s=True\n",
        "  contador=0\n",
        "  while s==True:\n",
        "    atual=intervalo[0]+contador*0.5\n",
        "    if atual>intervalo[1]:\n",
        "      break;\n",
        "    contador=contador+1\n",
        "    numeros.append(atual)\n",
        "\n",
        "  print(numeros)\n",
        "  intervalos=[]\n",
        "  contador2=0 #contar os iniciais\n",
        "  contador3=1 #contar os finais\n",
        "  while True:\n",
        "      if contador2>len(numeros)-2:\n",
        "        break;\n",
        "\n",
        "      intervaloI=numeros[contador2]\n",
        "      print('contador2', contador2)\n",
        "      print('contador3 ',contador3)\n",
        "      intervaloF=numeros[contador3]\n",
        "      if f(intervaloI)*f(intervaloF)<0:  #Verifica Intervalos que tem zeros Dentro dos Intervalor\n",
        "        intervalos.append([intervaloI,intervaloF])\n",
        "      contador2=contador2+1\n",
        "      contador3=contador3+1\n",
        "  return intervalos      \n",
        "\n",
        "def raizes(intervalo,variacao,precisao):  #Funcao que intera as raizes dos intervalos\n",
        "  raizes=[]\n",
        "  intervalos=verificarIntervalos(intervalo,variacao)\n",
        "  for intervalo in intervalos:\n",
        "    raizes.append(raiz(intervalo,precisao))\n",
        "  \n",
        "  return raizes\n",
        "\n",
        "\n",
        "\n",
        "#Minhas entradas\n",
        "variacao=0.5  #Variacao o qual vou fazer o tabelamento para verificar raizes\n",
        "intervalo=[0,3] #o intervalor onde vou procurar intervalos com raizes\n",
        "precisao=10**(-2) #A precisão que queroa das raizes\n",
        "print(raizes(intervalo,variacao,precisao))  #e o resultado\n",
        "\n",
        "\n",
        "\n",
        "\n",
        "\n",
        "\n"
      ],
      "metadata": {
        "colab": {
          "base_uri": "https://localhost:8080/"
        },
        "id": "NaO0p2FZfDOn",
        "outputId": "b40da5fb-9419-4fe5-fcfe-2ffe086e0d89"
      },
      "execution_count": 4,
      "outputs": [
        {
          "output_type": "stream",
          "name": "stdout",
          "text": [
            "[0.0, 0.5, 1.0, 1.5, 2.0, 2.5, 3.0]\n",
            "contador2 0\n",
            "contador3  1\n",
            "contador2 1\n",
            "contador3  2\n",
            "contador2 2\n",
            "contador3  3\n",
            "contador2 3\n",
            "contador3  4\n",
            "contador2 4\n",
            "contador3  5\n",
            "contador2 5\n",
            "contador3  6\n",
            "inciando interacao  1  intervalo: [ 0.5 , 1.0 ]\n",
            "Valor:  f( 0.75 )= -1.328125\n",
            "inciando interacao  2  intervalo: [ 0.5 , 0.75 ]\n",
            "Valor:  f( 0.625 )= -0.380859375\n",
            "inciando interacao  3  intervalo: [ 0.5 , 0.625 ]\n",
            "Valor:  f( 0.5625 )= 0.115478515625\n",
            "inciando interacao  4  intervalo: [ 0.5625 , 0.625 ]\n",
            "Valor:  f( 0.59375 )= -0.134429931640625\n",
            "inciando interacao  5  intervalo: [ 0.5625 , 0.59375 ]\n",
            "Valor:  f( 0.578125 )= -0.009899139404296875\n",
            "inciando interacao  1  intervalo: [ 2.5 , 3.0 ]\n",
            "Valor:  f( 2.75 )= 1.046875\n",
            "inciando interacao  2  intervalo: [ 2.5 , 2.75 ]\n",
            "Valor:  f( 2.625 )= -0.537109375\n",
            "inciando interacao  3  intervalo: [ 2.625 , 2.75 ]\n",
            "Valor:  f( 2.6875 )= 0.223388671875\n",
            "inciando interacao  4  intervalo: [ 2.625 , 2.6875 ]\n",
            "Valor:  f( 2.65625 )= -0.164642333984375\n",
            "inciando interacao  5  intervalo: [ 2.65625 , 2.6875 ]\n",
            "Valor:  f( 2.671875 )= 0.027416229248046875\n",
            "inciando interacao  6  intervalo: [ 2.65625 , 2.671875 ]\n",
            "Valor:  f( 2.6640625 )= -0.06910085678100586\n",
            "inciando interacao  7  intervalo: [ 2.6640625 , 2.671875 ]\n",
            "Valor:  f( 2.66796875 )= -0.020964443683624268\n",
            "inciando interacao  8  intervalo: [ 2.66796875 , 2.671875 ]\n",
            "Valor:  f( 2.669921875 )= 0.003195337951183319\n",
            "[0.5781, 2.6699]\n"
          ]
        }
      ]
    },
    {
      "cell_type": "code",
      "source": [
        ""
      ],
      "metadata": {
        "colab": {
          "base_uri": "https://localhost:8080/"
        },
        "id": "3xGVpGnphF8c",
        "outputId": "d8697647-a884-4ba5-fdd5-4d4f35eb2335"
      },
      "execution_count": 5,
      "outputs": [
        {
          "output_type": "stream",
          "name": "stdout",
          "text": [
            "\u001b[31mERROR: Could not find a version that satisfies the requirement git (from versions: none)\u001b[0m\n",
            "\u001b[31mERROR: No matching distribution found for git\u001b[0m\n"
          ]
        }
      ]
    }
  ]
}